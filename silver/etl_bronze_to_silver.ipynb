{
 "cells": [
  {
   "cell_type": "code",
   "execution_count": 84,
   "id": "c7f59134",
   "metadata": {},
   "outputs": [],
   "source": [
    "import pandas as pd\n",
    "import pandera as pa"
   ]
  },
  {
   "cell_type": "code",
   "execution_count": 85,
   "id": "7b8f6349",
   "metadata": {},
   "outputs": [],
   "source": [
    "def extract(path: str) -> pd.DataFrame:\n",
    "    df = pd.read_csv(path, encoding=\"utf-8\")\n",
    "    return df\n",
    "\n",
    "path = \"../bronze/rastreamento.csv\"\n",
    "df = extract(path)"
   ]
  },
  {
   "cell_type": "code",
   "execution_count": 86,
   "id": "aedd552c",
   "metadata": {},
   "outputs": [
    {
     "data": {
      "text/html": [
       "<div>\n",
       "<style scoped>\n",
       "    .dataframe tbody tr th:only-of-type {\n",
       "        vertical-align: middle;\n",
       "    }\n",
       "\n",
       "    .dataframe tbody tr th {\n",
       "        vertical-align: top;\n",
       "    }\n",
       "\n",
       "    .dataframe thead th {\n",
       "        text-align: right;\n",
       "    }\n",
       "</style>\n",
       "<table border=\"1\" class=\"dataframe\">\n",
       "  <thead>\n",
       "    <tr style=\"text-align: right;\">\n",
       "      <th></th>\n",
       "      <th>id_pacote</th>\n",
       "      <th>origem</th>\n",
       "      <th>destino</th>\n",
       "      <th>status_rastreamento</th>\n",
       "      <th>data_atualizacao</th>\n",
       "    </tr>\n",
       "  </thead>\n",
       "  <tbody>\n",
       "    <tr>\n",
       "      <th>0</th>\n",
       "      <td>1001</td>\n",
       "      <td>São Paulo</td>\n",
       "      <td>Rio de Janeiro</td>\n",
       "      <td>EM TRÂNSITO</td>\n",
       "      <td>2024-05-20T10:00:00Z</td>\n",
       "    </tr>\n",
       "    <tr>\n",
       "      <th>1</th>\n",
       "      <td>1002</td>\n",
       "      <td>Belo Horizonte</td>\n",
       "      <td>Salvador</td>\n",
       "      <td>ENTREGUE</td>\n",
       "      <td>2024-05-18T14:30:00Z</td>\n",
       "    </tr>\n",
       "    <tr>\n",
       "      <th>2</th>\n",
       "      <td>1003</td>\n",
       "      <td>Curitiba</td>\n",
       "      <td>Porto Alegre</td>\n",
       "      <td>EXTRAVIADO</td>\n",
       "      <td>2024-05-19T08:15:00Z</td>\n",
       "    </tr>\n",
       "    <tr>\n",
       "      <th>3</th>\n",
       "      <td>1004</td>\n",
       "      <td>São Paulo</td>\n",
       "      <td>Brasília</td>\n",
       "      <td>EM TRÂNSITO</td>\n",
       "      <td>2024-05-20T11:45:00Z</td>\n",
       "    </tr>\n",
       "    <tr>\n",
       "      <th>4</th>\n",
       "      <td>1005</td>\n",
       "      <td>Recife</td>\n",
       "      <td>Fortaleza</td>\n",
       "      <td>EM ROTA DE ENTREGA</td>\n",
       "      <td>2024-05-20T09:20:00Z</td>\n",
       "    </tr>\n",
       "    <tr>\n",
       "      <th>5</th>\n",
       "      <td>1006</td>\n",
       "      <td>Rio de Janeiro</td>\n",
       "      <td>São Paulo</td>\n",
       "      <td>ENTREGUE</td>\n",
       "      <td>2024-05-19T17:00:00Z</td>\n",
       "    </tr>\n",
       "    <tr>\n",
       "      <th>6</th>\n",
       "      <td>1007</td>\n",
       "      <td>Salvador</td>\n",
       "      <td>Belo Horizonte</td>\n",
       "      <td>EM TRÂNSITO</td>\n",
       "      <td>2024-05-20T13:00:00Z</td>\n",
       "    </tr>\n",
       "    <tr>\n",
       "      <th>7</th>\n",
       "      <td>1008</td>\n",
       "      <td>Fortaleza</td>\n",
       "      <td>Recife</td>\n",
       "      <td>EM TRÂNSITO</td>\n",
       "      <td>2024-05-20T10:30:00Z</td>\n",
       "    </tr>\n",
       "    <tr>\n",
       "      <th>8</th>\n",
       "      <td>1009</td>\n",
       "      <td>Brasília</td>\n",
       "      <td>Curitiba</td>\n",
       "      <td>AGUARDANDO RETIRADA</td>\n",
       "      <td>2024-05-20T09:00:00Z</td>\n",
       "    </tr>\n",
       "    <tr>\n",
       "      <th>9</th>\n",
       "      <td>1010</td>\n",
       "      <td>Porto Alegre</td>\n",
       "      <td>São Paulo</td>\n",
       "      <td>CANCELADO</td>\n",
       "      <td>2024-05-18T11:00:00Z</td>\n",
       "    </tr>\n",
       "  </tbody>\n",
       "</table>\n",
       "</div>"
      ],
      "text/plain": [
       "   id_pacote          origem  ...  status_rastreamento      data_atualizacao\n",
       "0       1001       São Paulo  ...          EM TRÂNSITO  2024-05-20T10:00:00Z\n",
       "1       1002  Belo Horizonte  ...             ENTREGUE  2024-05-18T14:30:00Z\n",
       "2       1003        Curitiba  ...           EXTRAVIADO  2024-05-19T08:15:00Z\n",
       "3       1004       São Paulo  ...          EM TRÂNSITO  2024-05-20T11:45:00Z\n",
       "4       1005          Recife  ...   EM ROTA DE ENTREGA  2024-05-20T09:20:00Z\n",
       "5       1006  Rio de Janeiro  ...             ENTREGUE  2024-05-19T17:00:00Z\n",
       "6       1007        Salvador  ...          EM TRÂNSITO  2024-05-20T13:00:00Z\n",
       "7       1008       Fortaleza  ...          EM TRÂNSITO  2024-05-20T10:30:00Z\n",
       "8       1009        Brasília  ...  AGUARDANDO RETIRADA  2024-05-20T09:00:00Z\n",
       "9       1010    Porto Alegre  ...            CANCELADO  2024-05-18T11:00:00Z\n",
       "\n",
       "[10 rows x 5 columns]"
      ]
     },
     "execution_count": 86,
     "metadata": {},
     "output_type": "execute_result"
    }
   ],
   "source": [
    "df"
   ]
  },
  {
   "cell_type": "code",
   "execution_count": null,
   "id": "d8c6565f",
   "metadata": {},
   "outputs": [
    {
     "data": {
      "text/plain": [
       "(10, 5)"
      ]
     },
     "execution_count": 87,
     "metadata": {},
     "output_type": "execute_result"
    }
   ],
   "source": [
    "# Verificando a dimensao do dataset\n",
    "df.shape"
   ]
  },
  {
   "cell_type": "code",
   "execution_count": null,
   "id": "0eb12720",
   "metadata": {},
   "outputs": [
    {
     "name": "stdout",
     "output_type": "stream",
     "text": [
      "<class 'pandas.core.frame.DataFrame'>\n",
      "RangeIndex: 10 entries, 0 to 9\n",
      "Data columns (total 5 columns):\n",
      " #   Column               Non-Null Count  Dtype \n",
      "---  ------               --------------  ----- \n",
      " 0   id_pacote            10 non-null     int64 \n",
      " 1   origem               10 non-null     object\n",
      " 2   destino              10 non-null     object\n",
      " 3   status_rastreamento  10 non-null     object\n",
      " 4   data_atualizacao     10 non-null     object\n",
      "dtypes: int64(1), object(4)\n",
      "memory usage: 532.0+ bytes\n"
     ]
    }
   ],
   "source": [
    "# Verificando as colunas presentes no DataFrame e os seus respectivos tipos\n",
    "df.info()"
   ]
  },
  {
   "cell_type": "code",
   "execution_count": null,
   "id": "a2db2cfb",
   "metadata": {},
   "outputs": [
    {
     "data": {
      "text/plain": [
       "(id_pacote              0\n",
       " origem                 0\n",
       " destino                0\n",
       " status_rastreamento    0\n",
       " data_atualizacao       0\n",
       " dtype: int64,\n",
       " id_pacote              0\n",
       " origem                 0\n",
       " destino                0\n",
       " status_rastreamento    0\n",
       " data_atualizacao       0\n",
       " dtype: int64,\n",
       " np.int64(0))"
      ]
     },
     "execution_count": 89,
     "metadata": {},
     "output_type": "execute_result"
    }
   ],
   "source": [
    "# Verificando valores Not a Number (NaN), Nulos e duplicados\n",
    "df.isna().sum(), df.isnull().sum(), df.duplicated().sum()"
   ]
  },
  {
   "cell_type": "code",
   "execution_count": null,
   "id": "76b75edb",
   "metadata": {},
   "outputs": [
    {
     "data": {
      "text/plain": [
       "status_rastreamento\n",
       "EM TRÂNSITO            4\n",
       "ENTREGUE               2\n",
       "EXTRAVIADO             1\n",
       "EM ROTA DE ENTREGA     1\n",
       "AGUARDANDO RETIRADA    1\n",
       "CANCELADO              1\n",
       "Name: count, dtype: int64"
      ]
     },
     "execution_count": 90,
     "metadata": {},
     "output_type": "execute_result"
    }
   ],
   "source": [
    "# Entendendo os valores possiveis para o status do rastreamento\n",
    "df['status_rastreamento'].value_counts()"
   ]
  },
  {
   "cell_type": "code",
   "execution_count": null,
   "id": "788f5d00",
   "metadata": {},
   "outputs": [
    {
     "data": {
      "text/plain": [
       "id_pacote                       int64\n",
       "origem                 string[python]\n",
       "destino                string[python]\n",
       "status_rastreamento    string[python]\n",
       "data_atualizacao       datetime64[ns]\n",
       "dtype: object"
      ]
     },
     "execution_count": 92,
     "metadata": {},
     "output_type": "execute_result"
    }
   ],
   "source": [
    "# Transformando os dados e fazendo a verificacao\n",
    "from pandera import Column, DataFrameSchema, Check, DateTime\n",
    "\n",
    "def transform_and_validate(df: pd.DataFrame) -> pd.DataFrame:\n",
    "    df['id_pacote'] = df['id_pacote'].astype(int)\n",
    "    df['origem'] = df['origem'].astype(\"string\")\n",
    "    df['destino'] = df['destino'].astype(\"string\")\n",
    "    df['status_rastreamento'] = df['status_rastreamento'].astype(\"string\")\n",
    "    df['data_atualizacao'] = pd.to_datetime(df['data_atualizacao'], errors=\"coerce\").dt.tz_localize(None)\n",
    "    \n",
    "    status_rastreamento = [\n",
    "        \"EM TRÂNSITO\", \n",
    "        \"ENTREGUE\", \n",
    "        \"EXTRAVIADO\", \n",
    "        \"EM ROTA DE ENTREGA\", \n",
    "        \"AGUARDANDO RETIRADA\",\n",
    "        \"CANCELADO\"\n",
    "    ]\n",
    "\n",
    "    schema = DataFrameSchema(\n",
    "        {\n",
    "            \"id_pacote\": Column(int, nullable=False),\n",
    "            \"origem\": Column(str, nullable=False),\n",
    "            \"destino\": Column(str, nullable=False),\n",
    "            \"status_rastreamento\": Column(str, Check.isin(status_rastreamento), nullable=False),\n",
    "            \"data_atualizacao\": Column(DateTime, nullable=False)\n",
    "        }\n",
    "    )\n",
    "    try: \n",
    "        df = schema.validate(df)\n",
    "        return df \n",
    "    except Exception as e:\n",
    "        print(f\"Exception was launched: {e}\")\n",
    "        return None\n",
    "\n",
    "df = transform_and_validate(df)\n",
    "df.dtypes"
   ]
  },
  {
   "cell_type": "code",
   "execution_count": 95,
   "id": "10135639",
   "metadata": {},
   "outputs": [],
   "source": [
    "from pathlib import Path \n",
    "def load(df: pd.DataFrame, path: str):\n",
    "    try:\n",
    "        df.to_csv(path, index=False, encoding=\"utf-8\")\n",
    "        return Path(path)\n",
    "    except Exception as e:\n",
    "        print(f\"Erro salvando o CSV: {e}\")\n",
    "        return None \n",
    "    \n",
    "arq = load(df, \"rastreamento_tratado.csv\")"
   ]
  }
 ],
 "metadata": {
  "kernelspec": {
   "display_name": "teste-tecnico-ize-py3.12",
   "language": "python",
   "name": "python3"
  },
  "language_info": {
   "codemirror_mode": {
    "name": "ipython",
    "version": 3
   },
   "file_extension": ".py",
   "mimetype": "text/x-python",
   "name": "python",
   "nbconvert_exporter": "python",
   "pygments_lexer": "ipython3",
   "version": "3.12.1"
  }
 },
 "nbformat": 4,
 "nbformat_minor": 5
}
